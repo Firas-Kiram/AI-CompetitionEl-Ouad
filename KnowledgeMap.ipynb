{
  "cells": [
    {
      "cell_type": "code",
      "execution_count": null,
      "metadata": {
        "id": "t41cFBR2PaMf"
      },
      "outputs": [],
      "source": [
        "!pip install sentence_transformers"
      ]
    },
    {
      "cell_type": "code",
      "execution_count": 135,
      "metadata": {
        "id": "Yz2SG5U2dzpd"
      },
      "outputs": [],
      "source": [
        "from sentence_transformers import  SentenceTransformer\n",
        "import numpy as np\n",
        "import json\n",
        "\n",
        "model = SentenceTransformer(\"all-MiniLM-L6-v2\")"
      ]
    },
    {
      "cell_type": "markdown",
      "metadata": {
        "id": "DwR0IFGykMBt"
      },
      "source": []
    },
    {
      "cell_type": "code",
      "execution_count": 136,
      "metadata": {
        "id": "Z7kZCv1qbbVM"
      },
      "outputs": [],
      "source": [
        "def model_similarity(vec1, vec2):\n",
        "\n",
        "    vec1 = np.array(vec1)\n",
        "    vec2 = np.array(vec2)\n",
        "    vectors = np.vstack([vec1, vec2])\n",
        "    sim_matrix = model.similarity(vectors, vectors)\n",
        "    return sim_matrix[0][1].item()\n",
        "\n",
        "def binarize_vector(vec, thresh=0.0):\n",
        "\n",
        "    vec = np.array(vec)\n",
        "    return (vec >= thresh).astype(int)\n",
        "\n",
        "def xor_difference(vec1, vec2, thresh=0.0):\n",
        "\n",
        "    bin1 = binarize_vector(vec1, thresh)\n",
        "    bin2 = binarize_vector(vec2, thresh)\n",
        "    xor = np.bitwise_xor(bin1, bin2)\n",
        "    return xor\n",
        "\n",
        "def get_child_key(level):\n",
        "\n",
        "    mapping = {\n",
        "        'univ': 'faculties',\n",
        "        'faculty': 'departments',\n",
        "        'dep': 'specialities',\n",
        "        'speciality': 'subjects'\n",
        "    }\n",
        "    return mapping.get(level)\n",
        "\n",
        "def next_level(level):\n",
        "    \"\"\"\n",
        "    Get the next level name for recursion.\n",
        "    \"\"\"\n",
        "    mapping = {\n",
        "        'univ': 'faculty',\n",
        "        'faculty': 'dep',\n",
        "        'dep': 'speciality',\n",
        "        'speciality': 'subject'\n",
        "    }\n",
        "    return mapping.get(level)\n",
        "\n",
        "def compare_entities(ent1, ent2, level, sim_thresh=0.4, bin_thresh=0.0):\n",
        "    \"\"\"\n",
        "    Compare two entities at a given hierarchical level.\n",
        "    Returns a dictionary with all comparison results, no filtering.\n",
        "    \"\"\"\n",
        "    # Compute similarity on the names using your model.\n",
        "    embeddings = model.encode([ent1['name'], ent2['name']])\n",
        "    sim = model_similarity(*embeddings.tolist())\n",
        "\n",
        "    # Build the basic result structure for this level.\n",
        "    result = {\n",
        "        'level': level,\n",
        "        'name1': ent1.get('name'),\n",
        "        'name2': ent2.get('name'),\n",
        "        'similarity': sim\n",
        "    }\n",
        "\n",
        "    # If we are at the \"subject\" level (leaf node), return the result.\n",
        "    if level == 'subject':\n",
        "        result['binary'] = 1 if sim > sim_thresh else 0\n",
        "        return result\n",
        "\n",
        "    # Otherwise, recursively compare children\n",
        "    child_key = get_child_key(level)\n",
        "    if child_key and child_key in ent1 and child_key in ent2:\n",
        "        children1 = ent1[child_key]\n",
        "        children2 = ent2[child_key]\n",
        "        result['children_comparison'] = []\n",
        "\n",
        "        for child1 in children1:\n",
        "            for child2 in children2:\n",
        "                child_comp = compare_entities(child1, child2, next_level(level), sim_thresh, bin_thresh)\n",
        "                if child_comp is not None:\n",
        "                    result['children_comparison'].append(child_comp)\n",
        "\n",
        "    return result\n",
        "\n",
        "\n",
        "def extract_subjects_recursive(data, sim_thresh=0.4):\n",
        "    subjects = []\n",
        "\n",
        "    def traverse(node):\n",
        "        if isinstance(node, dict):\n",
        "            if node.get(\"level\") == \"subject\":\n",
        "                sim = node.get(\"similarity\", 0)\n",
        "                subjects.append({\n",
        "                    \"name1\": node.get(\"name1\"),\n",
        "                    \"name2\": node.get(\"name2\"),\n",
        "                    \"similarity\": sim,\n",
        "                    \"binary\": 1 if sim > sim_thresh else 0\n",
        "                })\n",
        "            for key in node:\n",
        "                traverse(node[key])\n",
        "        elif isinstance(node, list):\n",
        "            for item in node:\n",
        "                traverse(item)\n",
        "\n",
        "    traverse(data)\n",
        "    return subjects\n",
        "\n",
        "\n",
        "\n",
        "def return_mismatch(ent1, ent2, similarity_threshold = 0.5):\n",
        "    comparison_result = compare_entities(ent1, ent2, \"univ\", sim_thresh=0.4, bin_thresh=0.0)\n",
        "    subject_vector = extract_subjects_recursive(comparison_result, sim_thresh=0.4)\n",
        "\n",
        "    gt_vector = [1] * len(subject_vector)\n",
        "    pred_vector = [subj[\"binary\"] for subj in subject_vector]\n",
        "\n",
        "    xor_vector = [a ^ b for a, b in zip(gt_vector, pred_vector)]\n",
        "\n",
        "    name1_max_sim = {}\n",
        "    for subj in subject_vector:\n",
        "        name1 = subj[\"name1\"]\n",
        "        sim = subj[\"similarity\"]\n",
        "        if name1 not in name1_max_sim or sim > name1_max_sim[name1]:\n",
        "            name1_max_sim[name1] = sim\n",
        "\n",
        "    final_mismatches = []\n",
        "    for i in range(len(subject_vector)):\n",
        "        subj = subject_vector[i]\n",
        "        if xor_vector[i] == 1 and name1_max_sim[subj[\"name1\"]] <= 0.4:\n",
        "            final_mismatches.append(subj[\"name1\"])\n",
        "\n",
        "    final_mismatch_set = set(final_mismatches)\n",
        "    return final_mismatch_set"
      ]
    },
    {
      "cell_type": "code",
      "source": [
        "return_mismatch(univ1, univ2, similarity_threshold = 0.5)"
      ],
      "metadata": {
        "colab": {
          "base_uri": "https://localhost:8080/"
        },
        "id": "dXX8YhlZSqB9",
        "outputId": "82133a15-3b47-47b5-8131-170338c9d95e"
      },
      "execution_count": 137,
      "outputs": [
        {
          "output_type": "execute_result",
          "data": {
            "text/plain": [
              "{'kiram'}"
            ]
          },
          "metadata": {},
          "execution_count": 137
        }
      ]
    },
    {
      "cell_type": "code",
      "source": [
        "import json\n",
        "\n",
        "with open('/content/UnivData.json', 'r', encoding='utf-8') as f:\n",
        "    data = json.load(f)\n",
        "\n",
        "# print(data)"
      ],
      "metadata": {
        "id": "XAPvIce00gMq"
      },
      "execution_count": 138,
      "outputs": []
    },
    {
      "cell_type": "code",
      "source": [
        "algerian = []\n",
        "foriegn = []\n",
        "for univ in data:\n",
        "  if univ['country'].lower() == \"algeria\":\n",
        "    algerian.append(univ)\n",
        "  else:\n",
        "    foriegn.append(univ)"
      ],
      "metadata": {
        "id": "nTu6mnyb0-uh"
      },
      "execution_count": 140,
      "outputs": []
    },
    {
      "cell_type": "code",
      "source": [
        "algerian[0]"
      ],
      "metadata": {
        "colab": {
          "base_uri": "https://localhost:8080/"
        },
        "id": "sTPQTeAuTfa8",
        "outputId": "82959925-3eff-442a-adc0-a7d12c07bd77"
      },
      "execution_count": 143,
      "outputs": [
        {
          "output_type": "execute_result",
          "data": {
            "text/plain": [
              "{'name': 'University of Algiers 1',\n",
              " 'country': 'Algeria',\n",
              " 'faculties': [{'name': 'Faculty of Science',\n",
              "   'departments': [{'name': 'Department of Mathematics',\n",
              "     'specialities': [{'name': 'Pure Mathematics',\n",
              "       'subjects': [{'name': 'Real Analysis'},\n",
              "        {'name': 'Abstract Algebra'},\n",
              "        {'name': 'Topology'},\n",
              "        {'name': 'Complex Analysis'},\n",
              "        {'name': 'Differential Geometry'}]},\n",
              "      {'name': 'Applied Mathematics',\n",
              "       'subjects': [{'name': 'Numerical Methods'},\n",
              "        {'name': 'Mathematical Modeling'},\n",
              "        {'name': 'Optimization'},\n",
              "        {'name': 'Statistics'},\n",
              "        {'name': 'Computational Mathematics'}]}]},\n",
              "    {'name': 'Department of Physics',\n",
              "     'specialities': [{'name': 'Theoretical Physics',\n",
              "       'subjects': [{'name': 'Quantum Mechanics'},\n",
              "        {'name': 'General Relativity'},\n",
              "        {'name': 'Statistical Mechanics'},\n",
              "        {'name': 'Field Theory'},\n",
              "        {'name': 'Mathematical Methods'}]},\n",
              "      {'name': 'Experimental Physics',\n",
              "       'subjects': [{'name': 'Electronics Laboratory'},\n",
              "        {'name': 'Optics'},\n",
              "        {'name': 'Nuclear Physics'},\n",
              "        {'name': 'Solid State Physics'},\n",
              "        {'name': 'Instrumentation'}]}]}]},\n",
              "  {'name': 'Faculty of Letters and Languages',\n",
              "   'departments': [{'name': 'Department of English',\n",
              "     'specialities': [{'name': 'English Literature',\n",
              "       'subjects': [{'name': 'Shakespeare Studies'},\n",
              "        {'name': 'Modern Poetry'},\n",
              "        {'name': 'Postcolonial Literature'},\n",
              "        {'name': 'Literary Theory'},\n",
              "        {'name': 'Drama'}]},\n",
              "      {'name': 'Applied Linguistics',\n",
              "       'subjects': [{'name': 'Sociolinguistics'},\n",
              "        {'name': 'Phonetics'},\n",
              "        {'name': 'Language Acquisition'},\n",
              "        {'name': 'Discourse Analysis'},\n",
              "        {'name': 'Translation Studies'}]}]},\n",
              "    {'name': 'Department of Arabic',\n",
              "     'specialities': [{'name': 'Classical Arabic',\n",
              "       'subjects': [{'name': 'Quranic Grammar'},\n",
              "        {'name': 'Classical Poetry'},\n",
              "        {'name': 'Arabic Rhetoric'},\n",
              "        {'name': 'Philology'},\n",
              "        {'name': 'Manuscript Studies'}]},\n",
              "      {'name': 'Modern Arabic',\n",
              "       'subjects': [{'name': 'Contemporary Prose'},\n",
              "        {'name': 'Media Arabic'},\n",
              "        {'name': 'Creative Writing'},\n",
              "        {'name': 'Arabic Dialectology'},\n",
              "        {'name': 'Literary Criticism'}]}]}]}]}"
            ]
          },
          "metadata": {},
          "execution_count": 143
        }
      ]
    },
    {
      "cell_type": "code",
      "source": [
        "results = dict()\n",
        "\n",
        "\n",
        "for alg in algerian:\n",
        "  for forg in foriegn:\n",
        "    mismatch = return_mismatch(forg, alg, similarity_threshold = 0.4)\n",
        "    results[alg['name']] = mismatch"
      ],
      "metadata": {
        "id": "cs9-OTKxTEbI"
      },
      "execution_count": 144,
      "outputs": []
    },
    {
      "cell_type": "code",
      "source": [
        "results"
      ],
      "metadata": {
        "colab": {
          "base_uri": "https://localhost:8080/"
        },
        "id": "UtLiRNmgTEZl",
        "outputId": "ffb0f682-891b-4950-993e-013dee506021"
      },
      "execution_count": 145,
      "outputs": [
        {
          "output_type": "execute_result",
          "data": {
            "text/plain": [
              "{'University of Algiers 1': {'Bridge Engineering',\n",
              "  'Concrete Structures',\n",
              "  'Data Structures',\n",
              "  'Earthquake Geotechnics',\n",
              "  'Foundation Engineering',\n",
              "  'Ground Improvement',\n",
              "  'Knowledge Representation',\n",
              "  'Robotics',\n",
              "  'Seismic Design',\n",
              "  'Slope Stability',\n",
              "  'Soil Mechanics',\n",
              "  'Steel Structures'},\n",
              " 'University of Oran 2': {'Approximation Algorithms',\n",
              "  'Computational Complexity',\n",
              "  'Computer Vision',\n",
              "  'Graph Algorithms',\n",
              "  'Ground Improvement',\n",
              "  'Knowledge Representation',\n",
              "  'Machine Learning',\n",
              "  'Natural Language Processing',\n",
              "  'Randomized Algorithms',\n",
              "  'Robotics',\n",
              "  'Slope Stability',\n",
              "  'Soil Mechanics'},\n",
              " 'University of Constantine 1': {'Approximation Algorithms',\n",
              "  'Bridge Engineering',\n",
              "  'Computational Complexity',\n",
              "  'Computer Vision',\n",
              "  'Concrete Structures',\n",
              "  'Data Structures',\n",
              "  'Earthquake Geotechnics',\n",
              "  'Foundation Engineering',\n",
              "  'Graph Algorithms',\n",
              "  'Ground Improvement',\n",
              "  'Knowledge Representation',\n",
              "  'Machine Learning',\n",
              "  'Natural Language Processing',\n",
              "  'Randomized Algorithms',\n",
              "  'Robotics',\n",
              "  'Seismic Design',\n",
              "  'Slope Stability',\n",
              "  'Soil Mechanics',\n",
              "  'Steel Structures',\n",
              "  'Structural Dynamics'}}"
            ]
          },
          "metadata": {},
          "execution_count": 145
        }
      ]
    }
  ],
  "metadata": {
    "colab": {
      "provenance": []
    },
    "kernelspec": {
      "display_name": "Python 3",
      "name": "python3"
    },
    "language_info": {
      "name": "python"
    }
  },
  "nbformat": 4,
  "nbformat_minor": 0
}